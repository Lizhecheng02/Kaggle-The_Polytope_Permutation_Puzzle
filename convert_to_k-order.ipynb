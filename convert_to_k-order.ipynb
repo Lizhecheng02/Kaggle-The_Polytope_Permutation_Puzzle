{
 "cells": [
  {
   "cell_type": "code",
   "execution_count": 1,
   "metadata": {},
   "outputs": [],
   "source": [
    "import pandas as pd\n",
    "from tqdm import tqdm"
   ]
  },
  {
   "cell_type": "code",
   "execution_count": 2,
   "metadata": {},
   "outputs": [],
   "source": [
    "puzzles = pd.read_csv(\"puzzles.csv\")\n",
    "puzzles.head()\n",
    "puzzles = puzzles[puzzles['puzzle_type'].str.contains('cube')]"
   ]
  },
  {
   "cell_type": "code",
   "execution_count": 3,
   "metadata": {},
   "outputs": [],
   "source": [
    "def convert_to_kociemba1(cube_str):\n",
    "    parts = cube_str.split(';')\n",
    "\n",
    "    color_def = parts\n",
    "\n",
    "    order = int((len(color_def) / 6) ** 0.5)\n",
    "    if order ** 2 * 6 != len(color_def):\n",
    "        print(cube_str)\n",
    "        raise ValueError(\"魔方的阶数不正确或输入字符串长度不匹配\")\n",
    "\n",
    "    color_map = {'A': 'U', 'B': 'R', 'C': 'F', 'D': 'D', 'E': 'L', 'F': 'B'}\n",
    "    mapped_def = [color_map[c] for c in color_def]\n",
    "\n",
    "    kociemba_order = ''.join(mapped_def)\n",
    "    return kociemba_order\n",
    "\n",
    "\n",
    "def convert_to_kociemba2(cube_str):\n",
    "    parts = cube_str.split(';')\n",
    "\n",
    "    color_def = parts\n",
    "\n",
    "    order = int((len(color_def) / 6) ** 0.5)\n",
    "    if order ** 2 * 6 != len(color_def):\n",
    "        print(cube_str)\n",
    "        raise ValueError(\"魔方的阶数不正确或输入字符串长度不匹配\")\n",
    "\n",
    "    def map_to_kociemba(index, order):\n",
    "        face_size = order ** 2\n",
    "        faces = ['U', 'R', 'F', 'D', 'L', 'B']\n",
    "        face_index = index // face_size\n",
    "        return faces[face_index]\n",
    "\n",
    "    mapped_def = [map_to_kociemba(int(n[1:]), order) for n in color_def]\n",
    "\n",
    "    kociemba_order = ''.join(mapped_def)\n",
    "    return kociemba_order"
   ]
  },
  {
   "cell_type": "code",
   "execution_count": 4,
   "metadata": {},
   "outputs": [
    {
     "name": "stderr",
     "output_type": "stream",
     "text": [
      "100%|██████████| 284/284 [00:00<00:00, 5746.62it/s]\n"
     ]
    }
   ],
   "source": [
    "initial_kociembas = []\n",
    "solution_kociembas = []\n",
    "standard_final_kociembas = []\n",
    "\n",
    "for idx, row in tqdm(puzzles.iterrows(), total=len(puzzles)):\n",
    "    # 首先对solution state进行转换\n",
    "    if row['solution_state'][0] != 'N':\n",
    "        solution_kociembas.append(convert_to_kociemba1(row['solution_state']))\n",
    "    else:\n",
    "        solution_kociembas.append(convert_to_kociemba2(row['solution_state']))\n",
    "\n",
    "    if row['initial_state'][0] != 'N':\n",
    "        initial_kociembas.append(convert_to_kociemba1(row['initial_state']))\n",
    "    else:\n",
    "        initial_kociembas.append(convert_to_kociemba2(row['initial_state']))\n",
    "\n",
    "puzzles['initial_kociemba'] = initial_kociembas\n",
    "puzzles['solution_kociemba'] = solution_kociembas"
   ]
  },
  {
   "cell_type": "code",
   "execution_count": 5,
   "metadata": {},
   "outputs": [],
   "source": [
    "puzzles.to_csv('cube_puzzles.csv', index=False)"
   ]
  }
 ],
 "metadata": {
  "kernelspec": {
   "display_name": "base",
   "language": "python",
   "name": "python3"
  },
  "language_info": {
   "codemirror_mode": {
    "name": "ipython",
    "version": 3
   },
   "file_extension": ".py",
   "mimetype": "text/x-python",
   "name": "python",
   "nbconvert_exporter": "python",
   "pygments_lexer": "ipython3",
   "version": "3.10.9"
  }
 },
 "nbformat": 4,
 "nbformat_minor": 2
}
