{
 "cells": [
  {
   "cell_type": "code",
   "execution_count": 1,
   "metadata": {},
   "outputs": [],
   "source": [
    "import pandas as pd\n",
    "from tqdm import  tqdm"
   ]
  },
  {
   "cell_type": "code",
   "execution_count": 2,
   "metadata": {},
   "outputs": [],
   "source": [
    "origin = pd.read_csv(\"./submissions/submission_750427.csv\")\n",
    "sub1 = pd.read_csv(\"./submissions/782922.csv\")\n",
    "sub2 = pd.read_csv(\"./submissions/786623.csv\")"
   ]
  },
  {
   "cell_type": "code",
   "execution_count": 3,
   "metadata": {},
   "outputs": [
    {
     "data": {
      "text/html": [
       "<div>\n",
       "<style scoped>\n",
       "    .dataframe tbody tr th:only-of-type {\n",
       "        vertical-align: middle;\n",
       "    }\n",
       "\n",
       "    .dataframe tbody tr th {\n",
       "        vertical-align: top;\n",
       "    }\n",
       "\n",
       "    .dataframe thead th {\n",
       "        text-align: right;\n",
       "    }\n",
       "</style>\n",
       "<table border=\"1\" class=\"dataframe\">\n",
       "  <thead>\n",
       "    <tr style=\"text-align: right;\">\n",
       "      <th></th>\n",
       "      <th>id</th>\n",
       "      <th>moves</th>\n",
       "    </tr>\n",
       "  </thead>\n",
       "  <tbody>\n",
       "    <tr>\n",
       "      <th>0</th>\n",
       "      <td>0</td>\n",
       "      <td>r1.-f1</td>\n",
       "    </tr>\n",
       "    <tr>\n",
       "      <th>1</th>\n",
       "      <td>1</td>\n",
       "      <td>f0.-r0.d1.f1.f1.-d0.r1.f0.d0</td>\n",
       "    </tr>\n",
       "    <tr>\n",
       "      <th>2</th>\n",
       "      <td>2</td>\n",
       "      <td>-d1.-r0.-f1.-d1.-r0.-f0.-r1.f1.d1.-f1.d0.d0</td>\n",
       "    </tr>\n",
       "    <tr>\n",
       "      <th>3</th>\n",
       "      <td>3</td>\n",
       "      <td>f1.r0.f1.r0.d1.f1.r0.d1.r1.-f0</td>\n",
       "    </tr>\n",
       "    <tr>\n",
       "      <th>4</th>\n",
       "      <td>4</td>\n",
       "      <td>-d1.-f0.-d0.-f1.r1.-f1.r1.-f1.r0.r0.d0.d0</td>\n",
       "    </tr>\n",
       "  </tbody>\n",
       "</table>\n",
       "</div>"
      ],
      "text/plain": [
       "   id                                        moves\n",
       "0   0                                       r1.-f1\n",
       "1   1                 f0.-r0.d1.f1.f1.-d0.r1.f0.d0\n",
       "2   2  -d1.-r0.-f1.-d1.-r0.-f0.-r1.f1.d1.-f1.d0.d0\n",
       "3   3               f1.r0.f1.r0.d1.f1.r0.d1.r1.-f0\n",
       "4   4    -d1.-f0.-d0.-f1.r1.-f1.r1.-f1.r0.r0.d0.d0"
      ]
     },
     "execution_count": 3,
     "metadata": {},
     "output_type": "execute_result"
    }
   ],
   "source": [
    "origin.head()"
   ]
  },
  {
   "cell_type": "code",
   "execution_count": 4,
   "metadata": {},
   "outputs": [],
   "source": [
    "new_sub = pd.DataFrame(columns=origin.columns)"
   ]
  },
  {
   "cell_type": "code",
   "execution_count": 5,
   "metadata": {},
   "outputs": [
    {
     "name": "stderr",
     "output_type": "stream",
     "text": [
      "100%|██████████| 398/398 [00:00<00:00, 1311.30it/s]"
     ]
    },
    {
     "name": "stdout",
     "output_type": "stream",
     "text": [
      "283 107 8\n"
     ]
    },
    {
     "name": "stderr",
     "output_type": "stream",
     "text": [
      "\n"
     ]
    }
   ],
   "source": [
    "count1 = 0\n",
    "count2 = 0\n",
    "count3 = 0\n",
    "\n",
    "for i in tqdm(range(len(origin))):\n",
    "    num_id = origin.loc[i, \"id\"]\n",
    "\n",
    "    origin_moves = origin.loc[i, \"moves\"]\n",
    "    sub1_moves = sub1.loc[i, \"moves\"]\n",
    "    sub2_moves = sub2.loc[i, \"moves\"]\n",
    "\n",
    "    if len(origin_moves) <= len(sub1_moves) and len(origin_moves) <= len(sub2_moves):\n",
    "        count1 += 1\n",
    "        new_moves = origin_moves\n",
    "    elif len(sub1_moves) <= len(sub2_moves) and len(sub1_moves) <= len(origin_moves):\n",
    "        count2 += 1\n",
    "        new_moves = sub1_moves\n",
    "    elif len(sub2_moves) <= len(sub1_moves) and len(sub2_moves) <= len(origin_moves):\n",
    "        count3 += 1\n",
    "        new_moves = sub2_moves\n",
    "\n",
    "    new_row = pd.DataFrame({\n",
    "        \"id\": [num_id],\n",
    "        \"moves\": [new_moves]\n",
    "    })\n",
    "    new_sub = pd.concat([new_sub, new_row], ignore_index=True)\n",
    "\n",
    "print(count1, count2, count3)"
   ]
  },
  {
   "cell_type": "code",
   "execution_count": 6,
   "metadata": {},
   "outputs": [
    {
     "data": {
      "text/html": [
       "<div>\n",
       "<style scoped>\n",
       "    .dataframe tbody tr th:only-of-type {\n",
       "        vertical-align: middle;\n",
       "    }\n",
       "\n",
       "    .dataframe tbody tr th {\n",
       "        vertical-align: top;\n",
       "    }\n",
       "\n",
       "    .dataframe thead th {\n",
       "        text-align: right;\n",
       "    }\n",
       "</style>\n",
       "<table border=\"1\" class=\"dataframe\">\n",
       "  <thead>\n",
       "    <tr style=\"text-align: right;\">\n",
       "      <th></th>\n",
       "      <th>id</th>\n",
       "      <th>moves</th>\n",
       "    </tr>\n",
       "  </thead>\n",
       "  <tbody>\n",
       "    <tr>\n",
       "      <th>0</th>\n",
       "      <td>0</td>\n",
       "      <td>r1.-f1</td>\n",
       "    </tr>\n",
       "    <tr>\n",
       "      <th>1</th>\n",
       "      <td>1</td>\n",
       "      <td>f0.-r0.d1.f1.f1.-d0.r1.f0.d0</td>\n",
       "    </tr>\n",
       "    <tr>\n",
       "      <th>2</th>\n",
       "      <td>2</td>\n",
       "      <td>-d1.-r0.f0.-r1.f1.d1.-r1.-f0.d1.f0.d1.d1</td>\n",
       "    </tr>\n",
       "    <tr>\n",
       "      <th>3</th>\n",
       "      <td>3</td>\n",
       "      <td>f1.r0.f1.r0.d1.f1.r0.d1.r1.-f0</td>\n",
       "    </tr>\n",
       "    <tr>\n",
       "      <th>4</th>\n",
       "      <td>4</td>\n",
       "      <td>-d1.-f0.-d0.-f1.r1.-f1.r1.-f1.r0.r0.d0.d0</td>\n",
       "    </tr>\n",
       "  </tbody>\n",
       "</table>\n",
       "</div>"
      ],
      "text/plain": [
       "  id                                      moves\n",
       "0  0                                     r1.-f1\n",
       "1  1               f0.-r0.d1.f1.f1.-d0.r1.f0.d0\n",
       "2  2   -d1.-r0.f0.-r1.f1.d1.-r1.-f0.d1.f0.d1.d1\n",
       "3  3             f1.r0.f1.r0.d1.f1.r0.d1.r1.-f0\n",
       "4  4  -d1.-f0.-d0.-f1.r1.-f1.r1.-f1.r0.r0.d0.d0"
      ]
     },
     "execution_count": 6,
     "metadata": {},
     "output_type": "execute_result"
    }
   ],
   "source": [
    "new_sub.head()"
   ]
  },
  {
   "cell_type": "code",
   "execution_count": 7,
   "metadata": {},
   "outputs": [],
   "source": [
    "new_sub.to_csv(\"./submissions/0127.csv\", index=False)"
   ]
  }
 ],
 "metadata": {
  "kernelspec": {
   "display_name": "base",
   "language": "python",
   "name": "python3"
  },
  "language_info": {
   "codemirror_mode": {
    "name": "ipython",
    "version": 3
   },
   "file_extension": ".py",
   "mimetype": "text/x-python",
   "name": "python",
   "nbconvert_exporter": "python",
   "pygments_lexer": "ipython3",
   "version": "3.10.9"
  }
 },
 "nbformat": 4,
 "nbformat_minor": 2
}
